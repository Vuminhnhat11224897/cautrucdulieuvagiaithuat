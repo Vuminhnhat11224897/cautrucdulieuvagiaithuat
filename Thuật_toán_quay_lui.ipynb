{
 "cells": [
  {
   "cell_type": "markdown",
   "metadata": {},
   "source": [
    "### BAI1"
   ]
  },
  {
   "cell_type": "code",
   "execution_count": 22,
   "metadata": {},
   "outputs": [
    {
     "name": "stdout",
     "output_type": "stream",
     "text": [
      "[0, 0, 0]\n",
      "[0, 0, 1]\n",
      "[0, 1, 0]\n",
      "[0, 1, 1]\n",
      "[1, 0, 0]\n",
      "[1, 0, 1]\n",
      "[1, 1, 0]\n",
      "[1, 1, 1]\n"
     ]
    }
   ],
   "source": [
    "n = int(input())\n",
    "a = [0 for i in range (n)]\n",
    "def incauhinh():\n",
    "    print(a)\n",
    "def thu(b):\n",
    "    for i in range(0, 2):\n",
    "        a[b] = i \n",
    "        if b == n - 1: incauhinh()\n",
    "        else : thu(b + 1)\n",
    "thu(0)\n",
    "\n",
    "    \n",
    "    "
   ]
  },
  {
   "cell_type": "markdown",
   "metadata": {},
   "source": [
    "### BAI2"
   ]
  },
  {
   "cell_type": "code",
   "execution_count": 51,
   "metadata": {},
   "outputs": [
    {
     "name": "stdout",
     "output_type": "stream",
     "text": [
      "123\n",
      "124\n",
      "125\n",
      "134\n",
      "135\n",
      "145\n",
      "234\n",
      "235\n",
      "245\n",
      "345\n"
     ]
    }
   ],
   "source": [
    "n = int(input())\n",
    "k = int(input())\n",
    "a = [0 for i in range(k + 1)]\n",
    "b = [False for i in range(k + 1)]\n",
    "def incauhinh():\n",
    "    for i in range(1, k + 1):\n",
    "        print(a[i], end = '')\n",
    "    print('')\n",
    "def thu(i):\n",
    "    for v in range(a[i - 1] + 1, n - k + i + 1 ):\n",
    "        a[i] = v\n",
    "        if i == k : incauhinh()\n",
    "        else : thu(i + 1)\n",
    "thu(1)\n"
   ]
  },
  {
   "cell_type": "markdown",
   "metadata": {},
   "source": [
    "### BAI3\n"
   ]
  },
  {
   "cell_type": "code",
   "execution_count": 63,
   "metadata": {},
   "outputs": [
    {
     "name": "stdout",
     "output_type": "stream",
     "text": [
      "1234\n",
      "1243\n",
      "1324\n",
      "1342\n",
      "1423\n",
      "1432\n",
      "2134\n",
      "2143\n",
      "2314\n",
      "2341\n",
      "2413\n",
      "2431\n",
      "3124\n",
      "3142\n",
      "3214\n",
      "3241\n",
      "3412\n",
      "3421\n",
      "4123\n",
      "4132\n",
      "4213\n",
      "4231\n",
      "4312\n",
      "4321\n"
     ]
    }
   ],
   "source": [
    "n = int(input())\n",
    "k = int(input())\n",
    "a = [0 for i in range(k + 1)]\n",
    "b = [False for i in range(n + 1)]\n",
    "def incauhinh():\n",
    "    for i in range(k):\n",
    "        print(a[i], end = '')\n",
    "    print('')\n",
    "def thu(i):\n",
    "    for v in range(1, n + 1):\n",
    "        if b[v] == False :\n",
    "            a[i] = v\n",
    "            if i == k - 1 : incauhinh()\n",
    "            else :\n",
    "                b[v] = True\n",
    "                thu(i + 1)\n",
    "                b[v] = False\n",
    "thu(0)\n"
   ]
  },
  {
   "cell_type": "code",
   "execution_count": null,
   "metadata": {},
   "outputs": [],
   "source": []
  }
 ],
 "metadata": {
  "kernelspec": {
   "display_name": "Python 3",
   "language": "python",
   "name": "python3"
  },
  "language_info": {
   "codemirror_mode": {
    "name": "ipython",
    "version": 3
   },
   "file_extension": ".py",
   "mimetype": "text/x-python",
   "name": "python",
   "nbconvert_exporter": "python",
   "pygments_lexer": "ipython3",
   "version": "3.9.5"
  },
  "orig_nbformat": 4
 },
 "nbformat": 4,
 "nbformat_minor": 2
}
