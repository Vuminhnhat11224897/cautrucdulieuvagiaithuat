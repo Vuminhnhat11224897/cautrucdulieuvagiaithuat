{
 "cells": [
  {
   "cell_type": "markdown",
   "metadata": {},
   "source": [
    "### BAI1\n"
   ]
  },
  {
   "cell_type": "code",
   "execution_count": 8,
   "metadata": {},
   "outputs": [
    {
     "name": "stdout",
     "output_type": "stream",
     "text": [
      "000\n",
      "001\n",
      "010\n",
      "011\n",
      "100\n",
      "101\n",
      "110\n",
      "111\n"
     ]
    }
   ],
   "source": [
    "n = int(input())\n",
    "a = []\n",
    "for i in range(n):\n",
    "    a.append(0)\n",
    "fl = n - 1\n",
    "while(fl > -1):\n",
    "    for i in range(n):\n",
    "        print(a[i], end = '')\n",
    "    print('')\n",
    "    fl = n - 1\n",
    "    while fl > -1 and a[fl] == 1 : fl -= 1\n",
    "    if fl > -1: \n",
    "        a[fl] = 1\n",
    "        for i in range (fl + 1, n) :\n",
    "            a[i] = 0"
   ]
  },
  {
   "cell_type": "markdown",
   "metadata": {},
   "source": [
    "### BAI2\n"
   ]
  },
  {
   "cell_type": "code",
   "execution_count": 16,
   "metadata": {},
   "outputs": [
    {
     "name": "stdout",
     "output_type": "stream",
     "text": [
      "123\n",
      "124\n",
      "125\n",
      "134\n",
      "135\n",
      "145\n",
      "234\n",
      "235\n",
      "245\n",
      "345\n"
     ]
    }
   ],
   "source": [
    "n, k = map(int, input().split())\n",
    "a = []\n",
    "for i in range (k):\n",
    "    a.append(i + 1)\n",
    "fl = k - 1\n",
    "while fl > -1 :\n",
    "    for i in range (k):\n",
    "        print(a[i], end = '')\n",
    "    print('')\n",
    "    fl = k - 1\n",
    "    while fl > -1 and a[fl] == n - k + fl + 1: fl -= 1\n",
    "    if fl > -1 :\n",
    "        a[fl] = a[fl] + 1\n",
    "        for i in range (fl + 1, k):\n",
    "            a[i] = a[i - 1] + 1\n"
   ]
  },
  {
   "cell_type": "markdown",
   "metadata": {},
   "source": [
    "### BAI3"
   ]
  },
  {
   "cell_type": "code",
   "execution_count": null,
   "metadata": {},
   "outputs": [],
   "source": []
  }
 ],
 "metadata": {
  "kernelspec": {
   "display_name": "Python 3",
   "language": "python",
   "name": "python3"
  },
  "language_info": {
   "codemirror_mode": {
    "name": "ipython",
    "version": 3
   },
   "file_extension": ".py",
   "mimetype": "text/x-python",
   "name": "python",
   "nbconvert_exporter": "python",
   "pygments_lexer": "ipython3",
   "version": "3.9.5"
  },
  "orig_nbformat": 4
 },
 "nbformat": 4,
 "nbformat_minor": 2
}
