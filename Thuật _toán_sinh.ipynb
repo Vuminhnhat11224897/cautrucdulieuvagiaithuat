{
 "cells": [
  {
   "cell_type": "markdown",
   "metadata": {},
   "source": [
    "### BAI1\n"
   ]
  },
  {
   "cell_type": "code",
   "execution_count": 27,
   "metadata": {},
   "outputs": [
    {
     "name": "stdout",
     "output_type": "stream",
     "text": [
      "0000\n",
      "0001\n",
      "0010\n",
      "0011\n",
      "0100\n",
      "0101\n",
      "0110\n",
      "0111\n",
      "1000\n",
      "1001\n",
      "1010\n",
      "1011\n",
      "1100\n",
      "1101\n",
      "1110\n",
      "1111\n"
     ]
    }
   ],
   "source": [
    "n = int(input())\n",
    "a = []\n",
    "for i in range(n):\n",
    "    a.append(0)\n",
    "fl = n - 1\n",
    "while(fl > -1):\n",
    "    for i in range(n):\n",
    "        print(a[i], end = '')\n",
    "    print('')\n",
    "    fl = n - 1\n",
    "    while fl > -1 and a[fl] == 1 : fl -= 1\n",
    "    if fl > -1: \n",
    "        a[fl] = 1\n",
    "        for i in range (fl + 1, n) :\n",
    "            a[i] = 0"
   ]
  },
  {
   "cell_type": "markdown",
   "metadata": {},
   "source": [
    "### BAI2\n"
   ]
  },
  {
   "cell_type": "code",
   "execution_count": 16,
   "metadata": {},
   "outputs": [
    {
     "name": "stdout",
     "output_type": "stream",
     "text": [
      "123\n",
      "124\n",
      "125\n",
      "134\n",
      "135\n",
      "145\n",
      "234\n",
      "235\n",
      "245\n",
      "345\n"
     ]
    }
   ],
   "source": [
    "n, k = map(int, input().split())\n",
    "a = []\n",
    "for i in range (k):\n",
    "    a.append(i + 1)\n",
    "fl = k - 1\n",
    "while fl > -1 :\n",
    "    for i in range (k):\n",
    "        print(a[i], end = '')\n",
    "    print('')\n",
    "    fl = k - 1\n",
    "    while fl > -1 and a[fl] == n - k + fl + 1: fl -= 1\n",
    "    if fl > -1 :\n",
    "        a[fl] = a[fl] + 1\n",
    "        for i in range (fl + 1, k):\n",
    "            a[i] = a[i - 1] + 1\n"
   ]
  },
  {
   "cell_type": "markdown",
   "metadata": {},
   "source": [
    "### BAI3"
   ]
  },
  {
   "cell_type": "code",
   "execution_count": 23,
   "metadata": {},
   "outputs": [
    {
     "name": "stdout",
     "output_type": "stream",
     "text": [
      "12345\n",
      "12354\n",
      "12435\n",
      "12453\n",
      "12534\n",
      "12543\n",
      "13245\n",
      "13254\n",
      "13425\n",
      "13452\n",
      "13524\n",
      "13542\n",
      "14235\n",
      "14253\n",
      "14325\n",
      "14352\n",
      "14523\n",
      "14532\n",
      "15234\n",
      "15243\n",
      "15324\n",
      "15342\n",
      "15423\n",
      "15432\n",
      "21345\n",
      "21354\n",
      "21435\n",
      "21453\n",
      "21534\n",
      "21543\n",
      "23145\n",
      "23154\n",
      "23415\n",
      "23451\n",
      "23514\n",
      "23541\n",
      "24135\n",
      "24153\n",
      "24315\n",
      "24351\n",
      "24513\n",
      "24531\n",
      "25134\n",
      "25143\n",
      "25314\n",
      "25341\n",
      "25413\n",
      "25431\n",
      "31245\n",
      "31254\n",
      "31425\n",
      "31452\n",
      "31524\n",
      "31542\n",
      "32145\n",
      "32154\n",
      "32415\n",
      "32451\n",
      "32514\n",
      "32541\n",
      "34125\n",
      "34152\n",
      "34215\n",
      "34251\n",
      "34512\n",
      "34521\n",
      "35124\n",
      "35142\n",
      "35214\n",
      "35241\n",
      "35412\n",
      "35421\n",
      "41235\n",
      "41253\n",
      "41325\n",
      "41352\n",
      "41523\n",
      "41532\n",
      "42135\n",
      "42153\n",
      "42315\n",
      "42351\n",
      "42513\n",
      "42531\n",
      "43125\n",
      "43152\n",
      "43215\n",
      "43251\n",
      "43512\n",
      "43521\n",
      "45123\n",
      "45132\n",
      "45213\n",
      "45231\n",
      "45312\n",
      "45321\n",
      "51234\n",
      "51243\n",
      "51324\n",
      "51342\n",
      "51423\n",
      "51432\n",
      "52134\n",
      "52143\n",
      "52314\n",
      "52341\n",
      "52413\n",
      "52431\n",
      "53124\n",
      "53142\n",
      "53214\n",
      "53241\n",
      "53412\n",
      "53421\n",
      "54123\n",
      "54132\n",
      "54213\n",
      "54231\n",
      "54312\n",
      "54321\n",
      "120\n"
     ]
    }
   ],
   "source": [
    "def swap(a, b):\n",
    "    c = a\n",
    "    a = b\n",
    "    b = c\n",
    "    return a, b\n",
    "n = int(input())\n",
    "a = []\n",
    "dem = 0\n",
    "for i in range (n):\n",
    "    a.append(i + 1)\n",
    "fl = n - 1\n",
    "while(fl > -1) :\n",
    "    for i in a:\n",
    "        print(i, end = '')\n",
    "    dem += 1\n",
    "    print('')\n",
    "    fl = n - 2\n",
    "    while fl > -1 and a[fl] > a[fl + 1] : fl = fl - 1\n",
    "    if fl > -1 :\n",
    "        k = n - 1\n",
    "        while a[k] < a[fl] : k -= 1\n",
    "        a[k], a[fl] = swap(a[k], a[fl])\n",
    "        x = fl + 1\n",
    "        y = n - 1\n",
    "        while x < y:\n",
    "            a[x], a[y] = swap(a[x], a[y])\n",
    "            x += 1\n",
    "            y -= 1"
   ]
  },
  {
   "cell_type": "markdown",
   "metadata": {},
   "source": [
    "### BAI4\n"
   ]
  },
  {
   "cell_type": "code",
   "execution_count": 37,
   "metadata": {},
   "outputs": [
    {
     "name": "stdout",
     "output_type": "stream",
     "text": [
      "111\n",
      "112\n",
      "113\n",
      "114\n",
      "121\n",
      "122\n",
      "123\n",
      "124\n",
      "131\n",
      "132\n",
      "133\n",
      "134\n",
      "141\n",
      "142\n",
      "143\n",
      "144\n",
      "211\n",
      "212\n",
      "213\n",
      "214\n",
      "221\n",
      "222\n",
      "223\n",
      "224\n",
      "231\n",
      "232\n",
      "233\n",
      "234\n",
      "241\n",
      "242\n",
      "243\n",
      "244\n",
      "311\n",
      "312\n",
      "313\n",
      "314\n",
      "321\n",
      "322\n",
      "323\n",
      "324\n",
      "331\n",
      "332\n",
      "333\n",
      "334\n",
      "341\n",
      "342\n",
      "343\n",
      "344\n",
      "411\n",
      "412\n",
      "413\n",
      "414\n",
      "421\n",
      "422\n",
      "423\n",
      "424\n",
      "431\n",
      "432\n",
      "433\n",
      "434\n",
      "441\n",
      "442\n",
      "443\n",
      "444\n",
      "64\n"
     ]
    }
   ],
   "source": [
    "n = int(input())\n",
    "k = int(input())\n",
    "a = []\n",
    "dem = 0\n",
    "for i in range(k + 1):\n",
    "    a.append(1)\n",
    "fl = n\n",
    "while(fl > 0):\n",
    "    for i in range(1, k + 1):\n",
    "        print(a[i], end = '')\n",
    "    print('')\n",
    "    fl = k\n",
    "    while fl > 0 and a[fl] == n : fl -= 1\n",
    "    if fl > 0: \n",
    "        a[fl] = a[fl] + 1\n",
    "        for i in range (fl + 1, k + 1) :\n",
    "            a[i] = 1\n",
    "    dem += 1\n",
    "print(dem)"
   ]
  },
  {
   "cell_type": "markdown",
   "metadata": {},
   "source": [
    "### BAI5"
   ]
  },
  {
   "cell_type": "code",
   "execution_count": 43,
   "metadata": {},
   "outputs": [
    {
     "name": "stdout",
     "output_type": "stream",
     "text": [
      "00101\n",
      "01001\n",
      "01010\n",
      "01011\n",
      "01101\n",
      "10101\n"
     ]
    }
   ],
   "source": [
    "n = int(input())\n",
    "a = []\n",
    "for i in range(n):\n",
    "    a.append(0)\n",
    "fl = n - 1\n",
    "while(fl > -1):\n",
    "    dem = 0\n",
    "    for i in range(n - 1):\n",
    "        if a[i] == 0 and a[i + 1] == 1 :\n",
    "            dem += 1\n",
    "    if dem == 2 :\n",
    "        for i in range(n):\n",
    "            print(a[i], end = '')\n",
    "        print('')\n",
    "    fl = n - 1\n",
    "    while fl > -1 and a[fl] == 1 : fl -= 1\n",
    "    if fl > -1: \n",
    "        a[fl] = 1\n",
    "        for i in range (fl + 1, n) :\n",
    "            a[i] = 0"
   ]
  },
  {
   "cell_type": "markdown",
   "metadata": {},
   "source": [
    "### BAI 6"
   ]
  },
  {
   "cell_type": "code",
   "execution_count": 56,
   "metadata": {},
   "outputs": [
    {
     "name": "stdout",
     "output_type": "stream",
     "text": [
      "nhat thanh hieu \n",
      "nhat thanh duc \n",
      "nhat hieu duc \n",
      "thanh hieu duc \n"
     ]
    }
   ],
   "source": [
    "n = int(input())\n",
    "k = int(input())\n",
    "a = []\n",
    "b = []\n",
    "def combination(n, k):\n",
    "    #a = map(str, input().split())\n",
    "    for i in range (n) :\n",
    "        a.append(input())\n",
    "    for i in range (k) :\n",
    "        b.append(i + 1)\n",
    "    fl = k - 1\n",
    "    while fl > -1 :\n",
    "        for i in range (k):\n",
    "            print(a[b[i] - 1], end = ' ')\n",
    "        print('')\n",
    "        while fl > -1 and b[fl] == n - k + fl + 1 : fl -= 1\n",
    "        if fl > -1 :\n",
    "            b[fl] = b[fl] + 1\n",
    "            for i in range(fl + 1, k):\n",
    "                b[i] = b[i - 1] + 1\n",
    "combination(n, k)\n",
    "\n",
    "    "
   ]
  },
  {
   "cell_type": "markdown",
   "metadata": {},
   "source": [
    "### BAI7\n"
   ]
  },
  {
   "cell_type": "code",
   "execution_count": 64,
   "metadata": {},
   "outputs": [
    {
     "name": "stdout",
     "output_type": "stream",
     "text": [
      "rỗng\n",
      "4 \n",
      "3 \n",
      "3 4 \n",
      "2 \n",
      "2 4 \n",
      "2 3 \n",
      "2 3 4 \n",
      "1 \n",
      "1 4 \n",
      "1 3 \n",
      "1 3 4 \n",
      "1 2 \n",
      "1 2 4 \n",
      "1 2 3 \n",
      "1 2 3 4 \n"
     ]
    }
   ],
   "source": [
    "a = []\n",
    "def sotapcon(n) :\n",
    "    for i in range(n):\n",
    "        a.append(0)\n",
    "    fl = n - 1\n",
    "    print('rỗng', end = '')\n",
    "    while fl > -1 :\n",
    "        for i in range(n):\n",
    "            if a[i] == 1:\n",
    "                print(i + 1, end = ' ')\n",
    "        print('')\n",
    "        fl = n - 1\n",
    "        while fl > -1 and a[fl] == 1 : fl -= 1\n",
    "        if fl > -1 :\n",
    "            a[fl] = 1\n",
    "            for i in range (fl + 1, n) : a[i] = 0\n",
    "n = int(input())\n",
    "sotapcon(n)\n",
    "        "
   ]
  },
  {
   "cell_type": "code",
   "execution_count": 70,
   "metadata": {},
   "outputs": [
    {
     "name": "stdout",
     "output_type": "stream",
     "text": [
      "1\n",
      "2\n",
      "3\n",
      "4\n",
      "12\n",
      "13\n",
      "14\n",
      "23\n",
      "24\n",
      "34\n",
      "123\n",
      "124\n",
      "134\n",
      "234\n",
      "1234\n"
     ]
    }
   ],
   "source": [
    "def sotap(n, k):\n",
    "    a = []\n",
    "    for i in range(k):\n",
    "        a.append(i + 1)\n",
    "    fl = k - 1\n",
    "    while fl > -1:\n",
    "        for i in range(k):\n",
    "            print(a[i], end = '')\n",
    "        print('')\n",
    "        fl = k - 1\n",
    "        while fl > -1 and a[fl] == n - k + fl + 1: fl -= 1\n",
    "        if fl > -1 :\n",
    "            a[fl] = a[fl] + 1\n",
    "            for i in range(fl + 1, k) : a[i] = a[i - 1] + 1\n",
    "n = int(input())\n",
    "for i in range (1, n + 1):\n",
    "    sotap(n, i)"
   ]
  },
  {
   "cell_type": "markdown",
   "metadata": {},
   "source": [
    "### BAI8\n"
   ]
  },
  {
   "cell_type": "code",
   "execution_count": 22,
   "metadata": {},
   "outputs": [
    {
     "name": "stdout",
     "output_type": "stream",
     "text": [
      "5 1 \n",
      "4 2 \n",
      "4 1 1 \n",
      "3 3 \n",
      "3 2 1 \n",
      "3 1 1 1 \n",
      "2 2 2 \n",
      "2 2 1 1 \n",
      "2 1 1 1 1 \n",
      "1 1 1 1 1 1 \n"
     ]
    }
   ],
   "source": [
    "n = int(input())\n",
    "a = [0, n - 1, 1]\n",
    "for i in range(3, 10000):\n",
    "    a.append(0)\n",
    "def incauhinh(t):\n",
    "    for i in range(1, t + 1):\n",
    "        print(a[i], end = ' ')\n",
    "    print('')\n",
    "def sinhketiep():\n",
    "    #dem = 1\n",
    "    i = 2\n",
    "    k = 2\n",
    "    while i != 0 :\n",
    "        incauhinh(k)\n",
    "        #print(dem)\n",
    "        #dem += 1\n",
    "        i = k\n",
    "        while i > 0 and a[i] == 1 : i -= 1\n",
    "        else:\n",
    "            a[i] = a[i] - 1\n",
    "            tongcacsosauk = k - i + 1\n",
    "            thuong = tongcacsosauk // a[i]\n",
    "            du = tongcacsosauk % a[i]\n",
    "            if thuong > 0:\n",
    "                for j in range(i + 1, i + thuong + 1): \n",
    "                    a[j] = a[i]\n",
    "            k = i + thuong\n",
    "            if du != 0: \n",
    "                k = k + 1\n",
    "                a[k] = du\n",
    "sinhketiep()\n",
    "    \n"
   ]
  },
  {
   "cell_type": "code",
   "execution_count": null,
   "metadata": {},
   "outputs": [],
   "source": []
  }
 ],
 "metadata": {
  "kernelspec": {
   "display_name": "Python 3",
   "language": "python",
   "name": "python3"
  },
  "language_info": {
   "codemirror_mode": {
    "name": "ipython",
    "version": 3
   },
   "file_extension": ".py",
   "mimetype": "text/x-python",
   "name": "python",
   "nbconvert_exporter": "python",
   "pygments_lexer": "ipython3",
   "version": "3.9.5"
  },
  "orig_nbformat": 4
 },
 "nbformat": 4,
 "nbformat_minor": 2
}
