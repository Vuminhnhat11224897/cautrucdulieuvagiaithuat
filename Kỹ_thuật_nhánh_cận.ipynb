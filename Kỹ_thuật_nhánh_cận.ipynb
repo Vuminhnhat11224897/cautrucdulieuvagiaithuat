{
 "cells": [
  {
   "cell_type": "markdown",
   "metadata": {},
   "source": [
    "### BAI1\n"
   ]
  },
  {
   "cell_type": "code",
   "execution_count": 1,
   "metadata": {},
   "outputs": [
    {
     "name": "stdout",
     "output_type": "stream",
     "text": [
      "1->3->2->4->1\n",
      "Cost : 6\n"
     ]
    }
   ],
   "source": [
    "f = open('test.txt', 'r')\n",
    "line = f.readlines()\n",
    "n, m = map(int, line[0].split())\n",
    "c = {}\n",
    "free = [True for i in range(1, n + 3)]\n",
    "t = [0 for i in range(n + 1)]\n",
    "duong = [0 for i in range(n + 1)]\n",
    "bestway = [0 for i in range(n + 1)]\n",
    "minspend = 10000\n",
    "maxC = 10000\n",
    "\n",
    "def nhapdulieu():\n",
    "    for i in range(1, n + 1):\n",
    "        for j in range(1, n + 1):\n",
    "            if i == j : c[(i, j)] = 0\n",
    "            else : c[(i, j)] = maxC\n",
    "    for k in range(m):\n",
    "        x, y, z = map(int, line[k + 1].split())\n",
    "        c[(x, y)] = z\n",
    "        c[(y, x)] = z\n",
    "\n",
    "def khoitao():\n",
    "    free[1] = False\n",
    "    duong[1] = 1\n",
    "    t[1] = 0\n",
    "\n",
    "def tryy(i):\n",
    "    global minspend, bestway\n",
    "    for v in range(2, n + 1):\n",
    "        if free[v]:\n",
    "            duong[i] = v\n",
    "            t[i] = t[i - 1] + c[(duong[i - 1], v)]\n",
    "            if t[i] < minspend:\n",
    "                if i < n :\n",
    "                    free[v] = False\n",
    "                    tryy(i + 1)\n",
    "                    free[v] = True\n",
    "                else:\n",
    "                    #print(bestway, t[n], minspend)\n",
    "                    if t[n] + c[(duong[n], 1)] < minspend:\n",
    "                        #print(bestway, t[n], minspend)\n",
    "                        minspend = t[n] + c[(duong[n], 1)]\n",
    "                        bestway = duong[:] # nếu gán bestway = duong thì nó sẽ cùng tham chiếu đến 1 biến dẫn đến hàm if là vô nghĩa vì cứ \n",
    "                        # duong thay đổi thì bestway lại thay đổi nên có thỏa mãn if hay không không quan trọng \n",
    "                        #print(bestway, t[n], minspend)\n",
    "        \n",
    "def incauhinh():\n",
    "    global minspend, bestway\n",
    "    for i in range(1, n + 1):\n",
    "        print(bestway[i], end = '->')\n",
    "    print(1)\n",
    "    print('Cost :', minspend)\n",
    "\n",
    "nhapdulieu()\n",
    "khoitao()\n",
    "tryy(2)\n",
    "#print(bestway)\n",
    "incauhinh()\n",
    "#print(c)\n",
    "f.close()"
   ]
  },
  {
   "cell_type": "markdown",
   "metadata": {},
   "source": [
    "### BAI2"
   ]
  },
  {
   "cell_type": "code",
   "execution_count": null,
   "metadata": {},
   "outputs": [],
   "source": []
  },
  {
   "cell_type": "code",
   "execution_count": null,
   "metadata": {},
   "outputs": [],
   "source": [
    "\n"
   ]
  }
 ],
 "metadata": {
  "kernelspec": {
   "display_name": "Python 3",
   "language": "python",
   "name": "python3"
  },
  "language_info": {
   "codemirror_mode": {
    "name": "ipython",
    "version": 3
   },
   "file_extension": ".py",
   "mimetype": "text/x-python",
   "name": "python",
   "nbconvert_exporter": "python",
   "pygments_lexer": "ipython3",
   "version": "3.9.5"
  },
  "orig_nbformat": 4
 },
 "nbformat": 4,
 "nbformat_minor": 2
}
