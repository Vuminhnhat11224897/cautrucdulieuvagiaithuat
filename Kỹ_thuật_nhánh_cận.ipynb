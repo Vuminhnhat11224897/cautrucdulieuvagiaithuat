{
 "cells": [
  {
   "cell_type": "markdown",
   "metadata": {},
   "source": [
    "### BAI1\n"
   ]
  },
  {
   "cell_type": "code",
   "execution_count": 21,
   "metadata": {},
   "outputs": [
    {
     "ename": "ValueError",
     "evalue": "not enough values to unpack (expected 3, got 0)",
     "output_type": "error",
     "traceback": [
      "\u001b[1;31m---------------------------------------------------------------------------\u001b[0m",
      "\u001b[1;31mValueError\u001b[0m                                Traceback (most recent call last)",
      "\u001b[1;32md:\\Cấu trúc dữ liệu và giải thuật\\Kỹ_thuật_nhánh_cận.ipynb Cell 2\u001b[0m line \u001b[0;36m4\n\u001b[0;32m     <a href='vscode-notebook-cell:/d%3A/C%E1%BA%A5u%20tr%C3%BAc%20d%E1%BB%AF%20li%E1%BB%87u%20v%C3%A0%20gi%E1%BA%A3i%20thu%E1%BA%ADt/K%E1%BB%B9_thu%E1%BA%ADt_nh%C3%A1nh_c%E1%BA%ADn.ipynb#W1sZmlsZQ%3D%3D?line=43'>44</a>\u001b[0m                         bestway \u001b[39m=\u001b[39m x\n\u001b[0;32m     <a href='vscode-notebook-cell:/d%3A/C%E1%BA%A5u%20tr%C3%BAc%20d%E1%BB%AF%20li%E1%BB%87u%20v%C3%A0%20gi%E1%BA%A3i%20thu%E1%BA%ADt/K%E1%BB%B9_thu%E1%BA%ADt_nh%C3%A1nh_c%E1%BA%ADn.ipynb#W1sZmlsZQ%3D%3D?line=44'>45</a>\u001b[0m                         minspend \u001b[39m=\u001b[39m t[n] \u001b[39m+\u001b[39m c[x[n], \u001b[39m1\u001b[39m]\n\u001b[1;32m---> <a href='vscode-notebook-cell:/d%3A/C%E1%BA%A5u%20tr%C3%BAc%20d%E1%BB%AF%20li%E1%BB%87u%20v%C3%A0%20gi%E1%BA%A3i%20thu%E1%BA%ADt/K%E1%BB%B9_thu%E1%BA%ADt_nh%C3%A1nh_c%E1%BA%ADn.ipynb#W1sZmlsZQ%3D%3D?line=46'>47</a>\u001b[0m nhapdulieu()\n\u001b[0;32m     <a href='vscode-notebook-cell:/d%3A/C%E1%BA%A5u%20tr%C3%BAc%20d%E1%BB%AF%20li%E1%BB%87u%20v%C3%A0%20gi%E1%BA%A3i%20thu%E1%BA%ADt/K%E1%BB%B9_thu%E1%BA%ADt_nh%C3%A1nh_c%E1%BA%ADn.ipynb#W1sZmlsZQ%3D%3D?line=47'>48</a>\u001b[0m khoitao()\n\u001b[0;32m     <a href='vscode-notebook-cell:/d%3A/C%E1%BA%A5u%20tr%C3%BAc%20d%E1%BB%AF%20li%E1%BB%87u%20v%C3%A0%20gi%E1%BA%A3i%20thu%E1%BA%ADt/K%E1%BB%B9_thu%E1%BA%ADt_nh%C3%A1nh_c%E1%BA%ADn.ipynb#W1sZmlsZQ%3D%3D?line=48'>49</a>\u001b[0m tryy(\u001b[39m2\u001b[39m)\n",
      "\u001b[1;32md:\\Cấu trúc dữ liệu và giải thuật\\Kỹ_thuật_nhánh_cận.ipynb Cell 2\u001b[0m line \u001b[0;36m1\n\u001b[0;32m     <a href='vscode-notebook-cell:/d%3A/C%E1%BA%A5u%20tr%C3%BAc%20d%E1%BB%AF%20li%E1%BB%87u%20v%C3%A0%20gi%E1%BA%A3i%20thu%E1%BA%ADt/K%E1%BB%B9_thu%E1%BA%ADt_nh%C3%A1nh_c%E1%BA%ADn.ipynb#W1sZmlsZQ%3D%3D?line=13'>14</a>\u001b[0m         \u001b[39melse\u001b[39;00m : c[(i, j)] \u001b[39m=\u001b[39m maxC\n\u001b[0;32m     <a href='vscode-notebook-cell:/d%3A/C%E1%BA%A5u%20tr%C3%BAc%20d%E1%BB%AF%20li%E1%BB%87u%20v%C3%A0%20gi%E1%BA%A3i%20thu%E1%BA%ADt/K%E1%BB%B9_thu%E1%BA%ADt_nh%C3%A1nh_c%E1%BA%ADn.ipynb#W1sZmlsZQ%3D%3D?line=14'>15</a>\u001b[0m \u001b[39mfor\u001b[39;00m k \u001b[39min\u001b[39;00m \u001b[39mrange\u001b[39m(m):\n\u001b[1;32m---> <a href='vscode-notebook-cell:/d%3A/C%E1%BA%A5u%20tr%C3%BAc%20d%E1%BB%AF%20li%E1%BB%87u%20v%C3%A0%20gi%E1%BA%A3i%20thu%E1%BA%ADt/K%E1%BB%B9_thu%E1%BA%ADt_nh%C3%A1nh_c%E1%BA%ADn.ipynb#W1sZmlsZQ%3D%3D?line=15'>16</a>\u001b[0m     x, y, z \u001b[39m=\u001b[39m \u001b[39mmap\u001b[39m(\u001b[39mint\u001b[39m, \u001b[39minput\u001b[39m()\u001b[39m.\u001b[39msplit())\n\u001b[0;32m     <a href='vscode-notebook-cell:/d%3A/C%E1%BA%A5u%20tr%C3%BAc%20d%E1%BB%AF%20li%E1%BB%87u%20v%C3%A0%20gi%E1%BA%A3i%20thu%E1%BA%ADt/K%E1%BB%B9_thu%E1%BA%ADt_nh%C3%A1nh_c%E1%BA%ADn.ipynb#W1sZmlsZQ%3D%3D?line=16'>17</a>\u001b[0m     c[(x, y)] \u001b[39m=\u001b[39m z\n",
      "\u001b[1;31mValueError\u001b[0m: not enough values to unpack (expected 3, got 0)"
     ]
    }
   ],
   "source": [
    "f = open('test.txt', 'r')\n",
    "line = f.readline()\n",
    "n, m = map(int, line.split())\n",
    "c = {}\n",
    "t = [-1 for i in range(1, m + 1)]\n",
    "x = [0 for i in range(1, n + 1)]\n",
    "bestway = [0 for i in range(1, n + 1)]\n",
    "Free = [True for i in range(1, n + 2)]\n",
    "maxC = 10000\n",
    "minspend = 0\n",
    "for k in range(m):\n",
    "  line = f.readline()\n",
    "  x, y, z = map(int, line.split())\n",
    "  c[(x, y)] = z\n",
    "  c[(y, x)] = z\n",
    "f.close()\n",
    "def khoitao():\n",
    "    Free[1] = True\n",
    "    x[1] = 1\n",
    "    t[1] = 0\n",
    "    minspend = maxC\n",
    "\n",
    "def incauhinh():\n",
    "    if minspend == maxC : print(\"No solution\")\n",
    "    else:\n",
    "        for i in range(1, n + 1):\n",
    "            print(bestway[i], end = ' ')\n",
    "        print(1)\n",
    "        print(minspend)\n",
    "\n",
    "def tryy(i):\n",
    "    for v in range(2, n + 1):\n",
    "        if Free[v] :\n",
    "            x[i] = v\n",
    "            t[i] = t[i - 1] + c[i - 1, v]\n",
    "            if t[i] < minspend :\n",
    "                if i < n:\n",
    "                    Free[i] = False\n",
    "                    tryy(i + 1)\n",
    "                    Free[i] = True \n",
    "\n",
    "                else:\n",
    "                    if t[n] + c[x[n], 1] < minspend:\n",
    "                        bestway = x\n",
    "                        minspend = t[n] + c[x[n], 1]\n",
    "\n",
    "nhapdulieu()\n",
    "khoitao()\n",
    "tryy(2)\n",
    "incauhinh()\n",
    "\n"
   ]
  },
  {
   "cell_type": "code",
   "execution_count": null,
   "metadata": {},
   "outputs": [],
   "source": []
  }
 ],
 "metadata": {
  "kernelspec": {
   "display_name": "Python 3",
   "language": "python",
   "name": "python3"
  },
  "language_info": {
   "codemirror_mode": {
    "name": "ipython",
    "version": 3
   },
   "file_extension": ".py",
   "mimetype": "text/x-python",
   "name": "python",
   "nbconvert_exporter": "python",
   "pygments_lexer": "ipython3",
   "version": "3.9.5"
  },
  "orig_nbformat": 4
 },
 "nbformat": 4,
 "nbformat_minor": 2
}
